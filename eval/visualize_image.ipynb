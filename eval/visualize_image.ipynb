{
 "cells": [
  {
   "cell_type": "code",
   "execution_count": 1,
   "metadata": {},
   "outputs": [],
   "source": [
    "from IPython.display import Image, display"
   ]
  },
  {
   "cell_type": "code",
   "execution_count": 2,
   "metadata": {},
   "outputs": [],
   "source": [
    "import numpy as np\n",
    "from path import Path\n",
    "import struct\n",
    "import os\n",
    "import cv2"
   ]
  },
  {
   "cell_type": "code",
   "execution_count": 3,
   "metadata": {},
   "outputs": [],
   "source": [
    "test_dataset_names = [\"chess-seq-01\", \"chess-seq-02\", \"fire-seq-01\", \"fire-seq-02\", \\\n",
    "                      \"office-seq-01\", \"office-seq-03\", \"redkitchen-seq-01\", \"redkitchen-seq-07\"]\n",
    "labels = [\"input\", \"ground truth\", \"cpp\", \"cpp with ptq\", \"fadec\"]"
   ]
  },
  {
   "cell_type": "code",
   "execution_count": 4,
   "metadata": {},
   "outputs": [],
   "source": [
    "org_dir = Path(\"../dev/dataset_converter/7scenes/images_7scenes\")\n",
    "gt_dir = Path(\"../dev/dataset_converter/7scenes/data_7scenes\")"
   ]
  },
  {
   "cell_type": "code",
   "execution_count": 5,
   "metadata": {},
   "outputs": [],
   "source": [
    "def load_binary_image(file_path):\n",
    "    data = []\n",
    "    with open(file_path, 'rb') as f:\n",
    "        while True:\n",
    "            d = f.read(1)\n",
    "            if len(d) != 1:\n",
    "                break\n",
    "            data.append(struct.unpack('b', d))\n",
    "    image = np.array(data).reshape(3, 256, 320)[::-1].astype('uint8').transpose(1,2,0)\n",
    "    return cv2.resize(image, (96, 64), interpolation=cv2.INTER_NEAREST)\n"
   ]
  },
  {
   "cell_type": "code",
   "execution_count": 6,
   "metadata": {},
   "outputs": [],
   "source": [
    "def load_binary_depth(file_path):\n",
    "    data = []\n",
    "    with open(file_path, 'rb') as f:\n",
    "        while True:\n",
    "            d = f.read(4)\n",
    "            if len(d) != 4:\n",
    "                break\n",
    "            data.append(struct.unpack('f', d))\n",
    "    depth = np.array(data).reshape(64, 96)\n",
    "    return np.round(np.clip(depth * 72, 0, 255)).astype(np.uint8)\n",
    "    "
   ]
  },
  {
   "cell_type": "code",
   "execution_count": 7,
   "metadata": {},
   "outputs": [],
   "source": [
    "def get_images(test_dataset_name, file_number):\n",
    "    files = sorted((Path('cpp/results_7scenes') / test_dataset_name).files(\"*.bin\"))\n",
    "    for file_idx in range(len(files)):\n",
    "        if files[file_idx][-10:-4] == file_number:\n",
    "            break\n",
    "    gts = np.load(gt_dir / test_dataset_name + \".npz\")['ground_truth'][1:]\n",
    "    fadecs = np.load(Path('fadec/depths') / test_dataset_name + \".npz\")['depths'][:,0,0,:,:]\n",
    "\n",
    "    images = []\n",
    "    images.append(load_binary_image(org_dir / test_dataset_name / file_number))\n",
    "    images.append(np.round(np.clip(gts[file_idx] * 72, 0, 255)).astype(np.uint8))\n",
    "    images.append(load_binary_depth(Path(\"cpp/results_7scenes\") / test_dataset_name / file_number + \".bin\"))\n",
    "    images.append(load_binary_depth(Path(\"cpp_with_ptq/results_7scenes\") / test_dataset_name / file_number + \".bin\"))\n",
    "    images.append(np.round(np.clip(fadecs[file_idx] * 72, 0, 255)).astype(np.uint8))\n",
    "\n",
    "    return images"
   ]
  },
  {
   "cell_type": "code",
   "execution_count": 8,
   "metadata": {},
   "outputs": [],
   "source": [
    "def visualize_images(images, test_dataset_name, file_number):\n",
    "    os.makedirs(\"tmp\", exist_ok=True)\n",
    "    file_names = [\"tmp/%s-%s-%s.png\" % (test_dataset_name, file_number, i) for i in range(len(images))]\n",
    "    for i in range(len(images)):\n",
    "        cv2.imwrite(file_names[i], images[i])\n",
    "\n",
    "    for i in range(len(images)):\n",
    "        print(labels[i])\n",
    "        display(Image(file_names[i]))"
   ]
  },
  {
   "cell_type": "code",
   "execution_count": 9,
   "metadata": {},
   "outputs": [
    {
     "name": "stdout",
     "output_type": "stream",
     "text": [
      "input\n"
     ]
    },
    {
     "data": {
      "image/png": "[encoded data removed]",
      "text/plain": [
       "<IPython.core.display.Image object>"
      ]
     },
     "metadata": {},
     "output_type": "display_data"
    },
    {
     "name": "stdout",
     "output_type": "stream",
     "text": [
      "ground truth\n"
     ]
    },
    {
     "data": {
      "image/png": "[encoded data removed]",
      "text/plain": [
       "<IPython.core.display.Image object>"
      ]
     },
     "metadata": {},
     "output_type": "display_data"
    },
    {
     "name": "stdout",
     "output_type": "stream",
     "text": [
      "cpp\n"
     ]
    },
    {
     "data": {
      "image/png": "[encoded data removed]",
      "text/plain": [
       "<IPython.core.display.Image object>"
      ]
     },
     "metadata": {},
     "output_type": "display_data"
    },
    {
     "name": "stdout",
     "output_type": "stream",
     "text": [
      "cpp with ptq\n"
     ]
    },
    {
     "data": {
      "image/png": "[encoded data removed]",
      "text/plain": [
       "<IPython.core.display.Image object>"
      ]
     },
     "metadata": {},
     "output_type": "display_data"
    },
    {
     "name": "stdout",
     "output_type": "stream",
     "text": [
      "fadec\n"
     ]
    },
    {
     "data": {
      "image/png": "[encoded data removed]",
      "text/plain": [
       "<IPython.core.display.Image object>"
      ]
     },
     "metadata": {},
     "output_type": "display_data"
    }
   ],
   "source": [
    "test_dataset_name = test_dataset_names[2]\n",
    "file_number = '000139'\n",
    "images = get_images(test_dataset_name, file_number)\n",
    "visualize_images(images, test_dataset_name, file_number)"
   ]
  },
  {
   "cell_type": "code",
   "execution_count": 10,
   "metadata": {},
   "outputs": [
    {
     "name": "stdout",
     "output_type": "stream",
     "text": [
      "input\n"
     ]
    },
    {
     "data": {
      "image/png": "[encoded data removed]",
      "text/plain": [
       "<IPython.core.display.Image object>"
      ]
     },
     "metadata": {},
     "output_type": "display_data"
    },
    {
     "name": "stdout",
     "output_type": "stream",
     "text": [
      "ground truth\n"
     ]
    },
    {
     "data": {
      "image/png": "[encoded data removed]",
      "text/plain": [
       "<IPython.core.display.Image object>"
      ]
     },
     "metadata": {},
     "output_type": "display_data"
    },
    {
     "name": "stdout",
     "output_type": "stream",
     "text": [
      "cpp\n"
     ]
    },
    {
     "data": {
      "image/png": "[encoded data removed]",
      "text/plain": [
       "<IPython.core.display.Image object>"
      ]
     },
     "metadata": {},
     "output_type": "display_data"
    },
    {
     "name": "stdout",
     "output_type": "stream",
     "text": [
      "cpp with ptq\n"
     ]
    },
    {
     "data": {
      "image/png": "[encoded data removed]",
      "text/plain": [
       "<IPython.core.display.Image object>"
      ]
     },
     "metadata": {},
     "output_type": "display_data"
    },
    {
     "name": "stdout",
     "output_type": "stream",
     "text": [
      "fadec\n"
     ]
    },
    {
     "data": {
      "image/png": "[encoded data removed]",
      "text/plain": [
       "<IPython.core.display.Image object>"
      ]
     },
     "metadata": {},
     "output_type": "display_data"
    }
   ],
   "source": [
    "test_dataset_name = test_dataset_names[7]\n",
    "file_number = '000268'\n",
    "images = get_images(test_dataset_name, file_number)\n",
    "visualize_images(images, test_dataset_name, file_number)"
   ]
  },
  {
   "cell_type": "code",
   "execution_count": null,
   "metadata": {},
   "outputs": [],
   "source": []
  }
 ],
 "metadata": {
  "kernelspec": {
   "display_name": "Python 3.8.2 64-bit ('3.8.2')",
   "language": "python",
   "name": "python3"
  },
  "language_info": {
   "codemirror_mode": {
    "name": "ipython",
    "version": 3
   },
   "file_extension": ".py",
   "mimetype": "text/x-python",
   "name": "python",
   "nbconvert_exporter": "python",
   "pygments_lexer": "ipython3",
   "version": "3.8.2"
  },
  "orig_nbformat": 4,
  "vscode": {
   "interpreter": {
    "hash": "7666809c90f55d26e137126084f57946dd005ea84acac35a876ccdfdf4177a80"
   }
  }
 },
 "nbformat": 4,
 "nbformat_minor": 2
}
